{
 "cells": [
  {
   "cell_type": "markdown",
   "metadata": {},
   "source": [
    "# Code to cluster cells by GLIF and spike shape parameters using affinity propagation\n",
    "### Teeter et al. 2018\n",
    "#### This notebook runs affinity propataion to generate clusters from the GLIF and spike-shape parameters. This code outputs the GLIF and feature cluster vs. Cre line composition figures, corresponding to Supplemental Figure 14 in the paper. "
   ]
  },
  {
   "cell_type": "markdown",
   "metadata": {},
   "source": [
    "### 1) Install required packages"
   ]
  },
  {
   "cell_type": "code",
   "execution_count": 1,
   "metadata": {
    "collapsed": false
   },
   "outputs": [
    {
     "name": "stderr",
     "output_type": "stream",
     "text": [
      "Loading required package: ape\n",
      "Loading required package: e1071\n",
      "Loading required package: gplots\n",
      "\n",
      "Attaching package: 'gplots'\n",
      "\n",
      "The following object is masked from 'package:stats':\n",
      "\n",
      "    lowess\n",
      "\n",
      "Loading required package: mclust\n",
      "Package 'mclust' version 5.2\n",
      "Type 'citation(\"mclust\")' for citing this R package in publications.\n",
      "Loading required package: apcluster\n",
      "\n",
      "Attaching package: 'apcluster'\n",
      "\n",
      "The following object is masked from 'package:stats':\n",
      "\n",
      "    heatmap\n",
      "\n"
     ]
    }
   ],
   "source": [
    "if (!require(ape)) {install.packages(\"ape\", repos = \"http://cran.us.r-project.org\")}\n",
    "if (!require(e1071)) {install.packages(\"e1071\", repos = \"http://cran.us.r-project.org\")}\n",
    "if (!require(gplots)) {install.packages(\"gplots\", repos = \"http://cran.us.r-project.org\")}\n",
    "if (!require(mclust)) {install.packages(\"mclust\", repos = \"http://cran.us.r-project.org\")}\n",
    "if (!require(apcluster)) {install.packages(\"apcluster\", repos = \"http://cran.us.r-project.org\")}\n",
    "require(ape)\n",
    "require(e1071)\n",
    "require(gplots)\n",
    "require(mclust)\n",
    "require(apcluster)"
   ]
  },
  {
   "cell_type": "markdown",
   "metadata": {},
   "source": [
    "### 2) Load data and metadata"
   ]
  },
  {
   "cell_type": "code",
   "execution_count": 2,
   "metadata": {
    "collapsed": false
   },
   "outputs": [],
   "source": [
    "###model parameters\n",
    "dat=read.table(\"GLIF_param_plus_spike_features_7_27_17.csv\",sep=\"\\t\",as.is=T,row.names=1,check.names=F,header=T)\n",
    "metadata=dat[,1:2]\n",
    "fulldat=dat[,-c(1:2)]\n",
    "\n",
    "###Cre line metadata\n",
    "crecols=read.csv(\"cre_colors.csv\",as.is=T,header=F)\n",
    "newcols=rgb(crecols[,2:4],maxColorValue = 255)\n",
    "names(newcols)=crecols[,5]\n",
    "colvec=newcols[match(metadata$cre,crecols[,1])]\n",
    "cre_order=c(\"Htr3a\",\"Ndnf\",\"Vip\",\"Sst\",\"Pvalb\",\"Nkx2-1\",\"Chat\",\"Chrna2\",\"Cux2\",\"Nr5a1\",\"Scnn1a-Tg2\",\"Scnn1a-Tg3\",\"Rorb\",\"Rbp4\",\"Ntsr1\",\"Ctgf\")\n",
    "  \n",
    "###features\n",
    "featdat=read.table(\"features_7_27_17.csv\",as.is=T,row.names=1,check.names=F,sep=\",\",header=T)\n",
    "featmetadata=featdat[,1:2]\n",
    "featfulldat=featdat[,c(\"tau\",\"ri\",\"vrest\",\"threshold_i_long_square\",\"threshold_v_long_square\",\"peak_v_long_square\",\"fast_trough_v_long_square\",\"trough_v_long_square\",\"upstroke_downstroke_ratio_long_square\",\"upstroke_downstroke_ratio_short_square\",\"sag\",\"f_i_curve_slope\",\"latency\",\"max_burstiness_across_sweeps\")]\n",
    "\n",
    "\n",
    "\n"
   ]
  },
  {
   "cell_type": "markdown",
   "metadata": {},
   "source": [
    "### 3) Apply log transform to skewed parameters/features"
   ]
  },
  {
   "cell_type": "code",
   "execution_count": 3,
   "metadata": {
    "collapsed": false
   },
   "outputs": [],
   "source": [
    "###model parameters\n",
    "for (ii in 1:ncol(fulldat)) {\n",
    "  if (min(fulldat[,ii])*max(fulldat[,ii])>0) {\n",
    "    if (min(fulldat[,ii])>0) {\n",
    "      if (skewness(fulldat[,ii])>skewness(log10(fulldat[,ii]))) {\n",
    "        fulldat[,ii]=log10(fulldat[,ii])\n",
    "      }\n",
    "    } else {\n",
    "      if (skewness(-fulldat[,ii])>skewness(log10(-fulldat[,ii]))) {\n",
    "        fulldat[,ii]=log10(-fulldat[,ii])\n",
    "      }\n",
    "    }\n",
    "  }\n",
    "}\n",
    "fulldat_all=fulldat\n",
    "\n",
    "###features\n",
    "for (ii in 1:ncol(featfulldat)) {\n",
    "  if (min(featfulldat[,ii])*max(featfulldat[,ii])>0) {\n",
    "    if (min(featfulldat[,ii])>0) {\n",
    "      if (skewness(featfulldat[,ii])>skewness(log10(featfulldat[,ii]))) {\n",
    "        featfulldat[,ii]=log10(featfulldat[,ii])\n",
    "      }\n",
    "    } else {\n",
    "      if (skewness(-featfulldat[,ii])>skewness(log10(-featfulldat[,ii]))) {\n",
    "        featfulldat[,ii]=log10(-featfulldat[,ii])\n",
    "      }\n",
    "    }\n",
    "  }\n",
    "}\n",
    "featfulldat_all=featfulldat"
   ]
  },
  {
   "cell_type": "markdown",
   "metadata": {},
   "source": [
    "### 4) Load clustering and clustering overlap functions"
   ]
  },
  {
   "cell_type": "code",
   "execution_count": 4,
   "metadata": {
    "collapsed": true
   },
   "outputs": [],
   "source": [
    "###function to run affinity propagation clustering\n",
    "runaffprop=function(dat,k) {\n",
    "  mmm=apclusterK(function (x){x=1-cor(t(x),method=\"pearson\")},dat,K=k,seed=1)\n",
    "  outvec=rep(0,nrow(dat))\n",
    "  print(dim(ncol(dat)))\n",
    "  for (ii in 1:length(mmm)) {\n",
    "    outvec[mmm[[ii]]]=ii\n",
    "  }\n",
    "  outlist=list()\n",
    "  outlist[['cluster']]=outvec\n",
    "  return(outlist)\n",
    "}\n",
    "\n",
    "###function to calculate Variation of Information or Adjusted Rand Index\n",
    "calc_cluster_diff=function(xvec,yvec,functype=1,credistmat=c(),clustdistmat=c()) {\n",
    "  if (functype==1) {\n",
    "    totaltab=table(xvec,yvec)\n",
    "    rowmat=sweep(totaltab,1,rowSums(totaltab),\"/\")  \n",
    "    colmat=sweep(totaltab,2,colSums(totaltab),\"/\")\n",
    "    summat=(totaltab*(log(rowmat)+log(colmat)))\n",
    "    sumval=sum(summat[totaltab>0])/length(xvec)\n",
    "    return(-sumval) \n",
    "  } else {\n",
    "    return(adjustedRandIndex(xvec,yvec))\n",
    "  }\n",
    "}\n",
    "\n",
    "###function to calculate score based on 100 random permutations\n",
    "rand_cluster_diff=function(xvec,yvec,functype=1,credistmat=c(),clustdistmat=c()) {\n",
    "  allvals=rep(0,100)\n",
    "  for (ii in 1:100) {\n",
    "    set.seed(ii)\n",
    "    allvals[ii]=calc_cluster_diff(xvec,sample(yvec),functype,credistmat,clustdistmat)\n",
    "  }\n",
    "  return(allvals)\n",
    "}"
   ]
  },
  {
   "cell_type": "markdown",
   "metadata": {},
   "source": [
    "### 5) Run clustering on GLIF parameters, GLIF parameters+spike shape features, and electrophysiological features\n",
    "#### This generates the first four panels of Supplemental Figure 14."
   ]
  },
  {
   "cell_type": "code",
   "execution_count": 5,
   "metadata": {
    "collapsed": false
   },
   "outputs": [
    {
     "name": "stdout",
     "output_type": "stream",
     "text": [
      "[1] \"clustering Features model, using the following parameters: tau,ri,vrest,threshold_i_long_square,threshold_v_long_square,peak_v_long_square,fast_trough_v_long_square,trough_v_long_square,upstroke_downstroke_ratio_long_square,upstroke_downstroke_ratio_short_square,sag,f_i_curve_slope,latency,max_burstiness_across_sweeps\"\n",
      "Trying p = 1.498409 \n",
      "   Number of clusters: 72 \n",
      "Trying p = -2.484667 \n",
      "   Number of clusters: 11 \n",
      "Trying p = -0.271847 (bisection step no. 1 )\n",
      "   Number of clusters: 18 \n",
      "\n",
      "Number of clusters: 18 for p = -0.271847 \n",
      "[1] \"Features\" \"18\"       \"18\"      \n",
      "[1] \"clustering Featuresnospike model, using the following parameters: tau,ri,vrest,threshold_i_long_square,threshold_v_long_square,trough_v_long_square,sag,f_i_curve_slope,latency,max_burstiness_across_sweeps\"\n",
      "Trying p = 1.484039 \n",
      "   Number of clusters: 70 \n",
      "Trying p = -2.928119 \n",
      "   Number of clusters: 13 \n",
      "Trying p = -0.4769202 (bisection step no. 1 )\n",
      "   Number of clusters: 21 \n",
      "Trying p = -1.702519 (bisection step no. 2 )\n",
      "   Number of clusters: 16 \n",
      "Trying p = -1.08972 (bisection step no. 3 )\n",
      "   Number of clusters: 19 \n",
      "\n",
      "Number of clusters: 19 for p = -1.08972 \n",
      "[1] \"Featuresnospike\" \"19\"              \"19\"             \n",
      "[1] \"clustering GLIF1 model, using the following parameters: R_input,C,El,th_inf,spike_cut_length\"\n",
      "Trying p = 1.406133 \n",
      "   Number of clusters: 41 \n",
      "Trying p = -3.937175 \n",
      "   Number of clusters: 9 \n",
      "Trying p = -57.37025 \n",
      "   Number of clusters: 3 \n",
      "Trying p = -27.68521 (bisection step no. 1 )\n",
      "   Number of clusters: 4 \n",
      "Trying p = -12.84269 (bisection step no. 2 )\n",
      "   Number of clusters: 6 \n",
      "Trying p = -5.421427 (bisection step no. 3 )\n",
      "   Number of clusters: 8 \n",
      "Trying p = -9.132058 (bisection step no. 4 )\n",
      "   Number of clusters: 6 \n",
      "Trying p = -7.276742 (bisection step no. 5 )\n",
      "   Number of clusters: 7 \n",
      "\n",
      "Number of clusters: 7 for p = -7.276742 \n",
      "[1] \"GLIF1\" \"7\"     \"7\"    \n",
      "[1] \"clustering GLIF2 model, using the following parameters: R_input,C,El,th_inf,spike_cut_length,reset_slope,reset_intercept\"\n",
      "Trying p = 1.430352 \n",
      "   Number of clusters: 54 \n",
      "Trying p = -3.661618 \n",
      "   Number of clusters: 10 \n",
      "Trying p = -54.58132 \n",
      "   Number of clusters: 3 \n",
      "Trying p = -26.2926 (bisection step no. 1 )\n",
      "   Number of clusters: 4 \n",
      "Trying p = -12.14824 (bisection step no. 2 )\n",
      "   Number of clusters: 6 \n",
      "Trying p = -19.22042 (bisection step no. 3 )\n",
      "   Number of clusters: 4 \n",
      "Trying p = -15.68433 (bisection step no. 4 )\n",
      "   Number of clusters: 6 \n",
      "Trying p = -17.45237 (bisection step no. 5 )\n",
      "   Number of clusters: 5 \n",
      "\n",
      "Number of clusters: 5 for p = -17.45237 \n",
      "[1] \"GLIF2\" \"5\"     \"5\"    \n",
      "[1] \"clustering GLIF3 model, using the following parameters: R_ASC,C,El,th_inf,total charge 1/300+1/100,total charge 1/3+1/10+1/100,spike_cut_length\"\n",
      "Trying p = 1.421835 \n",
      "   Number of clusters: 45 \n",
      "Trying p = -3.751447 \n",
      "   Number of clusters: 10 \n",
      "Trying p = -0.8774016 (bisection step no. 1 )\n",
      "   Number of clusters: 18 \n",
      "Trying p = -2.314424 (bisection step no. 2 )\n",
      "   Number of clusters: 13 \n",
      "\n",
      "Number of clusters: 13 for p = -2.314424 \n",
      "[1] \"GLIF3\" \"13\"    \"13\"   \n",
      "[1] \"clustering GLIF4 model, using the following parameters: R_ASC,C,El,th_inf,total charge 1/300+1/100,total charge 1/3+1/10+1/100,spike_cut_length,reset_slope,reset_intercept\"\n",
      "Trying p = 1.437467 \n",
      "   Number of clusters: 54 \n",
      "Trying p = -3.493017 \n",
      "   Number of clusters: 11 \n",
      "Trying p = -52.79786 \n",
      "   Number of clusters: 3 \n",
      "Trying p = -25.40628 (bisection step no. 1 )\n",
      "   Number of clusters: 4 \n",
      "Trying p = -11.71049 (bisection step no. 2 )\n",
      "   Number of clusters: 7 \n",
      "Trying p = -4.862596 (bisection step no. 3 )\n",
      "   Number of clusters: 10 \n",
      "Trying p = -1.438649 (bisection step no. 4 )\n",
      "   Number of clusters: 15 \n",
      "Trying p = -3.150623 (bisection step no. 5 )\n",
      "   Number of clusters: 11 \n",
      "\n",
      "Number of clusters: 11 for p = -3.150623 \n",
      "[1] \"GLIF4\" \"11\"    \"11\"   \n",
      "[1] \"clustering GLIF1_spike_shape model, using the following parameters: R_input,C,El,th_inf,spike_cut_length,peak_v_long_square,fast_trough_v_long_square,upstroke_downstroke_ratio_long_square,upstroke_downstroke_ratio_short_square\"\n",
      "Trying p = 1.465813 \n",
      "   Number of clusters: 55 \n",
      "Trying p = -3.288264 \n",
      "   Number of clusters: 11 \n",
      "Trying p = -50.82904 \n",
      "   Number of clusters: 3 \n",
      "Trying p = -24.4175 (bisection step no. 1 )\n",
      "   Number of clusters: 4 \n",
      "Trying p = -11.21173 (bisection step no. 2 )\n",
      "   Number of clusters: 5 \n",
      "Trying p = -4.608841 (bisection step no. 3 )\n",
      "   Number of clusters: 9 \n",
      "Trying p = -1.307399 (bisection step no. 4 )\n",
      "   Number of clusters: 15 \n",
      "Trying p = -2.95812 (bisection step no. 5 )\n",
      "   Number of clusters: 11 \n",
      "Trying p = -3.78348 (bisection step no. 6 )\n",
      "   Number of clusters: 11 \n",
      "Trying p = -4.196161 (bisection step no. 7 )\n",
      "   Number of clusters: 9 \n",
      "Trying p = -3.989821 (bisection step no. 8 )\n",
      "   Number of clusters: 10 \n",
      "\n",
      "Number of clusters: 10 for p = -3.989821 \n",
      "[1] \"GLIF1_spike_shape\" \"10\"                \"10\"               \n",
      "[1] \"clustering GLIF2_spike_shape model, using the following parameters: R_input,C,El,th_inf,spike_cut_length,reset_slope,reset_intercept,peak_v_long_square,fast_trough_v_long_square,upstroke_downstroke_ratio_long_square,upstroke_downstroke_ratio_short_square\"\n",
      "Trying p = 1.453404 \n",
      "   Number of clusters: 62 \n",
      "Trying p = -3.220579 \n",
      "   Number of clusters: 11 \n",
      "Trying p = -49.96041 \n",
      "   Number of clusters: 3 \n",
      "Trying p = -23.99384 (bisection step no. 1 )\n",
      "   Number of clusters: 5 \n",
      "Trying p = -11.01055 (bisection step no. 2 )\n",
      "   Number of clusters: 6 \n",
      "Trying p = -4.518907 (bisection step no. 3 )\n",
      "   Number of clusters: 10 \n",
      "\n",
      "Number of clusters: 10 for p = -4.518907 \n",
      "[1] \"GLIF2_spike_shape\" \"10\"                \"10\"               \n",
      "[1] \"clustering GLIF3_spike_shape model, using the following parameters: R_ASC,C,El,th_inf,total charge 1/300+1/100,total charge 1/3+1/10+1/100,spike_cut_length,peak_v_long_square,fast_trough_v_long_square,upstroke_downstroke_ratio_long_square,upstroke_downstroke_ratio_short_square\"\n",
      "Trying p = 1.478425 \n",
      "   Number of clusters: 56 \n",
      "Trying p = -3.100603 \n",
      "   Number of clusters: 11 \n",
      "Trying p = -0.5566986 (bisection step no. 1 )\n",
      "   Number of clusters: 17 \n",
      "Trying p = -1.828651 (bisection step no. 2 )\n",
      "   Number of clusters: 13 \n",
      "Trying p = -1.192675 (bisection step no. 3 )\n",
      "   Number of clusters: 14 \n",
      "Trying p = -0.8746867 (bisection step no. 4 )\n",
      "   Number of clusters: 17 \n",
      "Trying p = -1.033681 (bisection step no. 5 )\n",
      "   Number of clusters: 14 \n",
      "Trying p = -0.9541837 (bisection step no. 6 )\n",
      "   Number of clusters: 17 \n",
      "Trying p = -0.9939322 (bisection step no. 7 )\n",
      "   Number of clusters: 16 \n",
      "\n",
      "Number of clusters: 16 for p = -0.9939322 \n",
      "[1] \"GLIF3_spike_shape\" \"16\"                \"16\"               \n",
      "[1] \"clustering GLIF4_spike_shape model, using the following parameters: R_ASC,C,El,th_inf,total charge 1/300+1/100,total charge 1/3+1/10+1/100,spike_cut_length,reset_slope,reset_intercept,peak_v_long_square,fast_trough_v_long_square,upstroke_downstroke_ratio_long_square,upstroke_downstroke_ratio_short_square\"\n",
      "Trying p = 1.461238 \n",
      "   Number of clusters: 57 \n",
      "Trying p = -3.07234 \n",
      "   Number of clusters: 10 \n",
      "Trying p = -0.5536856 (bisection step no. 1 )\n",
      "   Number of clusters: 17 \n",
      "Trying p = -1.813013 (bisection step no. 2 )\n",
      "   Number of clusters: 13 \n",
      "Trying p = -1.183349 (bisection step no. 3 )\n",
      "   Number of clusters: 15 \n",
      "\n",
      "Number of clusters: 15 for p = -1.183349 \n",
      "[1] \"GLIF4_spike_shape\" \"15\"                \"15\"               \n"
     ]
    },
    {
     "data": {
      "text/html": [
       "<strong>pdf:</strong> 2"
      ],
      "text/latex": [
       "\\textbf{pdf:} 2"
      ],
      "text/markdown": [
       "**pdf:** 2"
      ],
      "text/plain": [
       "pdf \n",
       "  2 "
      ]
     },
     "execution_count": 5,
     "metadata": {},
     "output_type": "execute_result"
    }
   ],
   "source": [
    "###specify prefix for output file names###\n",
    "pref=\"affinity_propagation_clustering_2018\"\n",
    "parametersets=c(\"Features\",\"Featuresnospike\",\"GLIF1\",\"GLIF2\",\"GLIF3\",\"GLIF4\",\"GLIF1_spike_shape\",\"GLIF2_spike_shape\",\"GLIF3_spike_shape\",\"GLIF4_spike_shape\")\n",
    "pdf(paste0(\"Fig_Supp14_cluster_diagram_\",pref,\".pdf\"),useDingbats=F,width=12,height=10)\n",
    "for (nameval in parametersets) {\n",
    "  if (nameval==\"GLIF1\") {keepcols=c(1,3,4,5,8)}\n",
    "  if (nameval==\"GLIF2\") {keepcols=c(1,3,4,5,8,9,10)}\n",
    "  if (nameval==\"GLIF3\") {keepcols=c(2,3,4,5,6,7,8)}\n",
    "  if (nameval==\"GLIF4\") {keepcols=c(2,3,4,5,6,7,8,9,10)}\n",
    "  if (nameval==\"GLIF1_spike_shape\") {keepcols=c(1,3,4,5,8,13:16)}\n",
    "  if (nameval==\"GLIF2_spike_shape\") {keepcols=c(1,3,4,5,8,9,10,13:16)}\n",
    "  if (nameval==\"GLIF3_spike_shape\") {keepcols=c(2,3,4,5,6,7,8,13:16)}\n",
    "  if (nameval==\"GLIF4_spike_shape\") {keepcols=c(2,3,4,5,6,7,8,9,10,13:16)}\n",
    "  if (nameval==\"Features\") {keepcols=1:ncol(featfulldat_all)}\n",
    "  if (nameval==\"Featuresnospike\") {keepcols=c(1,2,3,4,5,8,11,12,13,14)}\n",
    "  \n",
    "  if (nameval %in% c(\"Features\",\"Featuresnospike\")) {\n",
    "    startmat=featfulldat_all\n",
    "  } else {\n",
    "    startmat=fulldat_all\n",
    "  }\n",
    "\n",
    "  print(paste0(\"clustering \",nameval,\" model, using the following parameters: \",paste(colnames(startmat)[keepcols],collapse=\",\")))\n",
    "   newstart=scale(startmat[,apply(startmat,2,var)>0])\n",
    "  testnumclusts=1:25\n",
    "  \n",
    "  ##Uncomment to run full range of affinity propagation parameters to identify optimal number of clusters. This takes a long\n",
    "  ##time to run, so to simply reproduce the paper figures, jump straight to the hard-coded cluster numbers in the uncommented lines below.\n",
    "  #allclustgap[[nameval]]=clusGap(newstart[,keepcols],runaffprop,K.max=25)  \n",
    "     \n",
    "  if (nameval==\"GLIF1\") {numclust=7}\n",
    "  if (nameval==\"GLIF2\") {numclust=5}\n",
    "  if (nameval==\"GLIF3\") {numclust=13}\n",
    "  if (nameval==\"GLIF4\") {numclust=11}\n",
    "  if (nameval==\"Features\") {numclust=18}\n",
    "  if (nameval==\"Featuresnospike\") {numclust=19}\n",
    "  if (nameval==\"GLIF1_spike_shape\") {numclust=10}\n",
    "  if (nameval==\"GLIF2_spike_shape\") {numclust=10}\n",
    "  if (nameval==\"GLIF3_spike_shape\") {numclust=16}\n",
    "  if (nameval==\"GLIF4_spike_shape\") {numclust=15}\n",
    "\n",
    "  clustout=apclusterK(function (x){x=1-cor(t(x),method=\"pearson\")},newstart[,keepcols],K=numclust,seed=0,prc=0,verbose=T)\n",
    "  allclusts=rep(0,nrow(startmat))\n",
    "  names(allclusts)=rownames(startmat)\n",
    "  print(c(nameval,numclust,length(clustout)))\n",
    "  for (ii in 1:length(clustout)) {\n",
    "    allclusts[clustout[[ii]]]=ii\n",
    "  }\n",
    "  temptab=table(allclusts[intersect(names(allclusts),rownames(metadata))],metadata$cre[match(intersect(names(allclusts),rownames(metadata)),rownames(metadata))])\n",
    "  colnames(temptab)=sapply(strsplit(colnames(temptab),\"-\"), `[`, 1)\n",
    "  temptab=cbind(temptab,paste(\"Cluster \",rev(1:nrow(temptab)),sep=''))\n",
    "  write.csv(temptab,file=paste0(\"composition_\",pref,\"_\",nameval,\".csv\"))\n",
    "  temptab=allclusts\n",
    "  write.csv(temptab,file=paste0(\"cluster_ids_\",pref,\"_\",nameval,\".csv\"))\n",
    "  if (grepl(\"spike_shape\",nameval)) {                                                            \n",
    "      outtab2=read.csv(paste0(\"composition_\",pref,\"_\",nameval,\".csv\"),as.is=T,row.names=1,check.names=F)\n",
    "      outtab2=outtab2[,-ncol(outtab2)]\n",
    "      colnames(outtab2)[grep(\"Scnn1a\",colnames(outtab2))]=c(\"Scnn1a-Tg2\",\"Scnn1a-Tg3\")\n",
    "      colnames(outtab2)[grep(\"Nkx2\",colnames(outtab2))]=\"Nkx2-1\"\n",
    "      outtab2=outtab2[,cre_order]\n",
    "      xvals=matrix(rep(1:ncol(outtab2),each=nrow(outtab2)),nrow=nrow(outtab2))\n",
    "      yvals=matrix(rep(1:nrow(outtab2),ncol(outtab2)),nrow=nrow(outtab2))\n",
    "      basecols=newcols[colnames(outtab2)]\n",
    "      colvals=matrix(basecols[rep(1:ncol(outtab2),each=nrow(outtab2))],nrow=nrow(outtab2))\n",
    "      outtab2=100*sweep(as.matrix(outtab2),2,colSums(outtab2),\"/\")\n",
    "      dfx = data.frame(x=c(xvals), y=c(yvals), sizeval=sqrt(c(as.matrix(outtab2))),colsplot=c(colvals))\n",
    "      dfx = dfx[dfx$sizeval>0,]\n",
    "      par(fig=c(0.3,1,0,1), new=FALSE)\n",
    "      plot(c(1,ncol(outtab2)),c(1,nrow(outtab2)),pch='',xlab='',ylab='',xaxt='n',yaxt='n',main=nameval)\n",
    "      abline(h=1:nrow(outtab2),v=1:ncol(outtab2),col='grey')\n",
    "      with(dfx, symbols(x=x, y=y, circles=sizeval, inches=1/4, ann=F, bg=as.character(colsplot), fg=\"black\", xlab=colnames(outtab),add=T,xlim=c(1,ncol(outtab2)),ylim=c(1,nrow(outtab2)),xaxt='n',yaxt='n'))\n",
    "      axis(1, at=1:ncol(outtab2),labels=colnames(outtab2),las=2,cex.axis=0.9)\n",
    "      axis(2, at=1:nrow(outtab2),label=paste(\"Cluster \",rev(1:nrow(outtab2)),sep=''),las=2)\n",
    "  }\n",
    "}\n",
    "dev.off()"
   ]
  },
  {
   "cell_type": "markdown",
   "metadata": {
    "collapsed": true
   },
   "source": [
    "### 6) Calculate Adjusted Rand and Adjusted Variation of Information Indices between all clusterings and Cre line segregation\n",
    "#### This generates the lower left panel of Supplemental Figure 14"
   ]
  },
  {
   "cell_type": "code",
   "execution_count": 6,
   "metadata": {
    "collapsed": false
   },
   "outputs": [
    {
     "data": {
      "text/html": [
       "<strong>pdf:</strong> 2"
      ],
      "text/latex": [
       "\\textbf{pdf:} 2"
      ],
      "text/markdown": [
       "**pdf:** 2"
      ],
      "text/plain": [
       "pdf \n",
       "  2 "
      ]
     },
     "execution_count": 6,
     "metadata": {},
     "output_type": "execute_result"
    }
   ],
   "source": [
    "pref=\"affinity_propagation_clustering_2018\"\n",
    "parametersets=c(\"GLIF1\",\"GLIF2\",\"GLIF3\",\"GLIF4\",\"Featuresnospike\",\"Features\",\"GLIF1_spike_shape\",\"GLIF2_spike_shape\",\"GLIF3_spike_shape\",\"GLIF4_spike_shape\")\n",
    "cre_voi=c()\n",
    "cre_ari=c()\n",
    "cre_mean_voi=c()\n",
    "cre_mean_ari=c()\n",
    "featclust=featmetadata\n",
    "for (nameval in parametersets) {\n",
    "  glifclust=read.csv(paste0(\"cluster_ids_\",pref,\"_\",nameval,\".csv\"),as.is=T)\n",
    "  glifclust=glifclust[match(rownames(featclust),glifclust[,1]),]\n",
    "  cre_voi=c(cre_voi,calc_cluster_diff(featclust[,1],glifclust[,2],1))\n",
    "  cre_ari=c(cre_ari,calc_cluster_diff(featclust[,1],glifclust[,2],2))\n",
    "  rand_voi=rand_cluster_diff(featclust[,1],glifclust[,2],1)\n",
    "  rand_ari=rand_cluster_diff(featclust[,1],glifclust[,2],2)\n",
    "  cre_mean_voi=c(cre_mean_voi,mean(rand_voi))\n",
    "  cre_mean_ari=c(cre_mean_ari,mean(rand_ari))\n",
    "}\n",
    "pdf(paste0(\"Fig_Supp14_comparison_to_Cre_lines_\",pref,\".pdf\"),useDingbats=F)\n",
    "par(mar = c(5,5,2,5))\n",
    "plot(1:10,cre_mean_voi[1:10]-cre_voi[1:10],type=\"l\",col=\"black\",ylab=\"Adjusted VOI score\",xaxt='n',xlab='',main=\"Comparison between model/feature clusters and Cre line partitioning\",ylim=c(0,max(cre_mean_voi[1:10]-cre_voi[1:10])))\n",
    "axis(side=1,at=1:10,labels=c(\"GLIF1\",\"GLIF2\",\"GLIF3\",\"GLIF4\",\"Features, no\\nspike-shape\", \"Features\",\"GLIF1+spike shape\",\"GLIF2+spike shape\",\"GLIF3+spike shape\",\"GLIF4+spike shape\"),las=2)\n",
    "par(new = T)\n",
    "plot(1:10, cre_ari[1:10]-cre_mean_ari[1:10], type=\"l\", col=\"red\", axes=F, xlab=NA, ylab=NA,ylim=c(0,max(cre_ari[1:10]-cre_mean_ari[1:10])))\n",
    "axis(side=4,labels=F)\n",
    "at = axTicks(4)\n",
    "mtext(side = 4, text = at, at = at, col = \"red\", line = 1)\n",
    "mtext(side = 4, line = 3, 'Adjusted Rand Index',col='red')\n",
    "legend(\"topleft\",c(\"Adjusted VOI\",\"Adjusted Rand Index\"),fill=c(\"black\",\"red\"))\n",
    "dev.off()"
   ]
  },
  {
   "cell_type": "markdown",
   "metadata": {},
   "source": [
    "### 7) Calculate Adjusted Rand and Adjusted Variation of Information Indices between GLIF clusterings and electrophysiological feature clustering\n",
    "#### This generates the lower right panel of Supplemental Figure 14"
   ]
  },
  {
   "cell_type": "code",
   "execution_count": 7,
   "metadata": {
    "collapsed": false
   },
   "outputs": [
    {
     "data": {
      "text/html": [
       "<strong>pdf:</strong> 2"
      ],
      "text/latex": [
       "\\textbf{pdf:} 2"
      ],
      "text/markdown": [
       "**pdf:** 2"
      ],
      "text/plain": [
       "pdf \n",
       "  2 "
      ]
     },
     "execution_count": 7,
     "metadata": {},
     "output_type": "execute_result"
    }
   ],
   "source": [
    "pref=\"affinity_propagation_clustering_2018\"\n",
    "parametersets=c(\"GLIF1\",\"GLIF2\",\"GLIF3\",\"GLIF4\",\"Featuresnospike\",\"GLIF1_spike_shape\",\"GLIF2_spike_shape\",\"GLIF3_spike_shape\",\"GLIF4_spike_shape\")\n",
    "all_voi=c()\n",
    "all_ari=c()\n",
    "mean_voi=c()\n",
    "mean_ari=c()\n",
    "featclust=read.csv(paste0(\"cluster_ids_\",pref,\"_Features.csv\"),as.is=T,row.names=1)\n",
    "for (nameval in parametersets) {\n",
    "  glifclust=read.csv(paste0(\"cluster_ids_\",pref,\"_\",nameval,\".csv\"),as.is=T)\n",
    "  glifclust=glifclust[match(rownames(featclust),glifclust[,1]),]\n",
    "  all_voi=c(all_voi,calc_cluster_diff(featclust[,1],glifclust[,2],1))\n",
    "  all_ari=c(all_ari,calc_cluster_diff(featclust[,1],glifclust[,2],2))\n",
    "  rand_voi=rand_cluster_diff(featclust[,1],glifclust[,2],1)\n",
    "  rand_ari=rand_cluster_diff(featclust[,1],glifclust[,2],2)\n",
    "  mean_voi=c(mean_voi,mean(rand_voi))\n",
    "  mean_ari=c(mean_ari,mean(rand_ari))\n",
    "}\n",
    "pdf(paste0(\"Fig_Supp14_comparison_to_feature_clustering_\",pref,\".pdf\"),useDingbats=F)\n",
    "par(mar = c(5,5,2,5))\n",
    "plot(1:9,mean_voi[1:9]-all_voi[1:9],type=\"l\",col=\"black\",ylab=\"Adjusted VOI score\",xaxt='n',xlab='',main=\"Comparison between model/feature clusters and Cre line partitioning\",ylim=c(0,max(mean_voi[1:9]-all_voi[1:9])))\n",
    "axis(side=1,at=1:9,labels=c(\"GLIF1\",\"GLIF2\",\"GLIF3\",\"GLIF4\",\"Features, no\\nspike-shape\",\"GLIF1+spike shape\",\"GLIF2+spike shape\",\"GLIF3+spike shape\",\"GLIF4+spike shape\"),las=2)\n",
    "par(new = T)\n",
    "plot(1:9, all_ari[1:9]-mean_ari[1:9], type=\"l\", col=\"red\", axes=F, xlab=NA, ylab=NA,ylim=c(0,max(all_ari[1:9]-mean_ari[1:9])))\n",
    "axis(side=4,labels=F)\n",
    "at = axTicks(4)\n",
    "mtext(side = 4, text = at, at = at, col = \"red\", line = 1)\n",
    "mtext(side = 4, line = 3, 'Adjusted Rand Index',col='red')\n",
    "legend(\"topleft\",c(\"Adjusted VOI\",\"Adjusted Rand Index\"),fill=c(\"black\",\"red\"))\n",
    "dev.off()"
   ]
  },
  {
   "cell_type": "code",
   "execution_count": null,
   "metadata": {
    "collapsed": true
   },
   "outputs": [],
   "source": []
  }
 ],
 "metadata": {
  "anaconda-cloud": {},
  "kernelspec": {
   "display_name": "R",
   "language": "R",
   "name": "ir"
  },
  "language_info": {
   "codemirror_mode": "r",
   "file_extension": ".r",
   "mimetype": "text/x-r-source",
   "name": "R",
   "pygments_lexer": "r",
   "version": "3.1.3"
  }
 },
 "nbformat": 4,
 "nbformat_minor": 0
}
