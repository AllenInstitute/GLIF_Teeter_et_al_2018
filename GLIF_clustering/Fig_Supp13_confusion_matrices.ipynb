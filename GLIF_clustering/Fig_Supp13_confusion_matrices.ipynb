{
 "cells": [
  {
   "cell_type": "markdown",
   "metadata": {},
   "source": [
    "# Code to cluster cells by GLIF parameters using iterative binary clustering and generate confusion matrices\n",
    "### Teeter et al. 2018\n",
    "#### This notebook runs the iterative binary appoach to generate clusters from the GLIF parameter and electrophysiology features. This code outputs the confusion matrices between the GLIF parameter clusterings and the electrophysiological feature clustering, corresponding to Supplemental Figure 13 in the paper. "
   ]
  },
  {
   "cell_type": "markdown",
   "metadata": {},
   "source": [
    "### 1) Install required packages"
   ]
  },
  {
   "cell_type": "code",
   "execution_count": 11,
   "metadata": {
    "collapsed": false
   },
   "outputs": [
    {
     "name": "stderr",
     "output_type": "stream",
     "text": [
      "Loading required package: gtools\n",
      "\n",
      "Attaching package: 'gtools'\n",
      "\n",
      "The following object is masked from 'package:e1071':\n",
      "\n",
      "    permutations\n",
      "\n"
     ]
    }
   ],
   "source": [
    "if (!require(ape)) {install.packages(\"ape\", repos = \"http://cran.us.r-project.org\")}\n",
    "if (!require(e1071)) {install.packages(\"e1071\", repos = \"http://cran.us.r-project.org\")}\n",
    "if (!require(gplots)) {install.packages(\"gplots\", repos = \"http://cran.us.r-project.org\")}\n",
    "if (!require(mclust)) {install.packages(\"mclust\", repos = \"http://cran.us.r-project.org\")}\n",
    "if (!require(gtools)) {install.packages(\"gtools\", repos = \"http://cran.us.r-project.org\")}\n",
    "require(ape)\n",
    "require(e1071)\n",
    "require(gplots)\n",
    "require(mclust)\n",
    "require(gtools)"
   ]
  },
  {
   "cell_type": "markdown",
   "metadata": {},
   "source": [
    "### 2) Load data and metadata"
   ]
  },
  {
   "cell_type": "code",
   "execution_count": 2,
   "metadata": {
    "collapsed": false
   },
   "outputs": [],
   "source": [
    "###model parameters\n",
    "dat=read.table(\"GLIF_param_plus_spike_features_7_27_17.csv\",sep=\"\\t\",as.is=T,row.names=1,check.names=F,header=T)\n",
    "metadata=dat[,1:2]\n",
    "fulldat=dat[,-c(1:2)]\n",
    "\n",
    "###Cre line metadata\n",
    "crecols=read.csv(\"cre_colors.csv\",as.is=T,header=F)\n",
    "newcols=rgb(crecols[,2:4],maxColorValue = 255)\n",
    "names(newcols)=crecols[,5]\n",
    "colvec=newcols[match(metadata$cre,crecols[,1])]\n",
    "cre_order=c(\"Htr3a\",\"Ndnf\",\"Vip\",\"Sst\",\"Pvalb\",\"Nkx2-1\",\"Chat\",\"Chrna2\",\"Cux2\",\"Nr5a1\",\"Scnn1a-Tg2\",\"Scnn1a-Tg3\",\"Rorb\",\"Rbp4\",\"Ntsr1\",\"Ctgf\")\n",
    "  \n",
    "###features\n",
    "featdat=read.table(\"features_7_27_17.csv\",as.is=T,row.names=1,check.names=F,sep=\",\",header=T)\n",
    "featmetadata=featdat[,1:2]\n",
    "featfulldat=featdat[,c(\"tau\",\"ri\",\"vrest\",\"threshold_i_long_square\",\"threshold_v_long_square\",\"peak_v_long_square\",\"fast_trough_v_long_square\",\"trough_v_long_square\",\"upstroke_downstroke_ratio_long_square\",\"upstroke_downstroke_ratio_short_square\",\"sag\",\"f_i_curve_slope\",\"latency\",\"max_burstiness_across_sweeps\")]\n",
    "\n",
    "\n",
    "\n"
   ]
  },
  {
   "cell_type": "markdown",
   "metadata": {},
   "source": [
    "### 3) Apply log transform to skewed parameters/features"
   ]
  },
  {
   "cell_type": "code",
   "execution_count": 3,
   "metadata": {
    "collapsed": false
   },
   "outputs": [],
   "source": [
    "###model parameters\n",
    "for (ii in 1:ncol(fulldat)) {\n",
    "  if (min(fulldat[,ii])*max(fulldat[,ii])>0) {\n",
    "    if (min(fulldat[,ii])>0) {\n",
    "      if (skewness(fulldat[,ii])>skewness(log10(fulldat[,ii]))) {\n",
    "        fulldat[,ii]=log10(fulldat[,ii])\n",
    "      }\n",
    "    } else {\n",
    "      if (skewness(-fulldat[,ii])>skewness(log10(-fulldat[,ii]))) {\n",
    "        fulldat[,ii]=log10(-fulldat[,ii])\n",
    "      }\n",
    "    }\n",
    "  }\n",
    "}\n",
    "fulldat_all=fulldat\n",
    "\n",
    "###features\n",
    "for (ii in 1:ncol(featfulldat)) {\n",
    "  if (min(featfulldat[,ii])*max(featfulldat[,ii])>0) {\n",
    "    if (min(featfulldat[,ii])>0) {\n",
    "      if (skewness(featfulldat[,ii])>skewness(log10(featfulldat[,ii]))) {\n",
    "        featfulldat[,ii]=log10(featfulldat[,ii])\n",
    "      }\n",
    "    } else {\n",
    "      if (skewness(-featfulldat[,ii])>skewness(log10(-featfulldat[,ii]))) {\n",
    "        featfulldat[,ii]=log10(-featfulldat[,ii])\n",
    "      }\n",
    "    }\n",
    "  }\n",
    "}\n",
    "featfulldat_all=featfulldat"
   ]
  },
  {
   "cell_type": "markdown",
   "metadata": {},
   "source": [
    "### 4) Load clustering functions"
   ]
  },
  {
   "cell_type": "code",
   "execution_count": 5,
   "metadata": {
    "collapsed": true
   },
   "outputs": [],
   "source": [
    "###function to separate data into two clusters and check for cluster separation using SVM-based prediction\n",
    "cluster_into_two=function(fulldat,startseed,meth='ward.D') {\n",
    "  fulldat=scale(fulldat[,apply(fulldat,2,var)>0])\n",
    "  hc=hclust(as.dist(1-cor(t(fulldat),method=\"pearson\")),method=meth)\n",
    "  clustids=cutree(hc,2)\n",
    "  outlist=list()\n",
    "  ###assess predictability using SVM prediction###\n",
    "   fraction_incorrect=c()\n",
    "   inds1=which(clustids==1)\n",
    "   inds2=which(clustids==2)\n",
    "   if (length(inds1)>5 & length(inds2)>5) {\n",
    "     sampfrac1=round(0.5*length(inds1))\n",
    "     sampfrac2=round(0.5*length(inds2))\n",
    "     for (tt in 1:100) {\n",
    "       set.seed(tt+startseed)\n",
    "       sampvec=c(sample(inds1,sampfrac1),sample(inds2,sampfrac2))\n",
    "       setcols=which(apply(fulldat[sampvec,],2,var)>0)\n",
    "       svmpred=predict(svm(x=fulldat[sampvec,setcols],y=clustids[sampvec],type=\"C-classification\"),fulldat[-sampvec,setcols])\n",
    "       conf=table(svmpred,clustids[-sampvec])\n",
    "       fraction_incorrect=c(fraction_incorrect,(conf[2,1]+conf[1,2])/sum(conf))\n",
    "     }\n",
    "   } else {\n",
    "     fraction_incorrect=c(1,1)\n",
    "     fraction_incorrect_rand=c(1,1)\n",
    "   }\n",
    "   outlist[['fraction_incorrect']]=fraction_incorrect\n",
    "   outlist[['clustids']]=clustids\n",
    "  return(outlist)\n",
    "}\n",
    "\n",
    "###function to cluster iteratively using binary splits\n",
    "recursive_clustering=function(keepcols,fulldat_all,fraclim=0.2,splitlim=50,startseed,outlist,methall=\"ward.D\") {\n",
    "  clustmat=fulldat_all[,keepcols]\n",
    "  tempout=cluster_into_two(clustmat,meth=methall,startseed)\n",
    "  if (!is.na(tempout$fraction_incorrect[1])) {\n",
    "    if (max(tempout$fraction_incorrect,na.rm=T)<=fraclim) {\n",
    "      outlist$clustnames[names(tempout$clustids)]=paste(outlist$clustnames[names(tempout$clustids)],tempout$clustids,sep=\"_\")\n",
    "      outlist$fracmat=rbind(outlist$fracmat,tempout$fraction_incorrect)\n",
    "      for (ii in 1:2) {\n",
    "        if (length(which(tempout$clustids==ii))>=10) {\n",
    "        outlist=recursive_clustering(keepcols,fulldat_all[names(tempout$clustids)[tempout$clustids==ii],],fraclim=fraclim,splitlim=splitlim,startseed+ii,outlist)\n",
    "        }\n",
    "      }\n",
    "    }\n",
    "  }\n",
    "  return(outlist)\n",
    "}"
   ]
  },
  {
   "cell_type": "markdown",
   "metadata": {},
   "source": [
    "### 5) Run clustering on GLIF parameters and electrophysiological features\n",
    "#### This generates the comparison data for the confusion matrices in the next cell."
   ]
  },
  {
   "cell_type": "code",
   "execution_count": 6,
   "metadata": {
    "collapsed": false
   },
   "outputs": [
    {
     "name": "stdout",
     "output_type": "stream",
     "text": [
      "[1] \"clustering Features model, using the following parameters: tau,ri,vrest,threshold_i_long_square,threshold_v_long_square,peak_v_long_square,fast_trough_v_long_square,trough_v_long_square,upstroke_downstroke_ratio_long_square,upstroke_downstroke_ratio_short_square,sag,f_i_curve_slope,latency,max_burstiness_across_sweeps\"\n",
      "[1] \"clustering GLIF1 model, using the following parameters: R_input,C,El,th_inf,spike_cut_length\"\n",
      "[1] \"clustering GLIF2 model, using the following parameters: R_input,C,El,th_inf,spike_cut_length,reset_slope,reset_intercept\"\n",
      "[1] \"clustering GLIF3 model, using the following parameters: R_ASC,C,El,th_inf,total charge 1/300+1/100,total charge 1/3+1/10+1/100,spike_cut_length\"\n",
      "[1] \"clustering GLIF4 model, using the following parameters: R_ASC,C,El,th_inf,total charge 1/300+1/100,total charge 1/3+1/10+1/100,spike_cut_length,reset_slope,reset_intercept\"\n"
     ]
    }
   ],
   "source": [
    "###specify prefix for output file names###\n",
    "pref=\"iterative_binary_clustering_2018\"\n",
    "parametersets=c(\"Features\",\"GLIF1\",\"GLIF2\",\"GLIF3\",\"GLIF4\")\n",
    "fraclimval=0.2  ###maximum fraction of incorrectly classified cells in test set (see recursive_clustering function in cell 3)\n",
    "methall='ward.D'\n",
    "for (nameval in parametersets) {\n",
    "  if (nameval==\"GLIF1\") {keepcols=c(1,3,4,5,8)}\n",
    "  if (nameval==\"GLIF2\") {keepcols=c(1,3,4,5,8,9,10)}\n",
    "  if (nameval==\"GLIF3\") {keepcols=c(2,3,4,5,6,7,8)}\n",
    "  if (nameval==\"GLIF4\") {keepcols=c(2,3,4,5,6,7,8,9,10)}\n",
    "  if (nameval==\"Features\") {keepcols=1:ncol(featfulldat_all)}\n",
    "  \n",
    "  if (nameval %in% c(\"Features\")) {\n",
    "    startmat=featfulldat_all\n",
    "  } else {\n",
    "    startmat=fulldat_all\n",
    "  }  \n",
    "    \n",
    "  print(paste0(\"clustering \",nameval,\" model, using the following parameters: \",paste(colnames(startmat)[keepcols],collapse=\",\")))\n",
    "  startnames=rep(\"1\",nrow(startmat))\n",
    "  names(startnames)=rownames(startmat)\n",
    "  outlist=list()\n",
    "  outlist$clustnames=startnames\n",
    "  outlist$fracmat=c()\n",
    "  allclusts=recursive_clustering(keepcols,startmat,fraclim=fraclimval,splitlim=splitlimval,startseed=1,outlist=outlist)\n",
    "  temptab=table(allclusts$clustnames[intersect(names(allclusts$clustnames),rownames(metadata))],metadata$cre[match(intersect(names(allclusts$clustnames),rownames(metadata)),rownames(metadata))])\n",
    "  colnames(temptab)=sapply(strsplit(colnames(temptab),\"-\"), `[`, 1)\n",
    "  temptab=cbind(temptab,paste(\"Cluster \",rev(1:nrow(temptab)),sep=''))\n",
    "  write.csv(temptab,file=paste0(\"composition_\",pref,\"_\",nameval,\".csv\"))\n",
    "  temptab=allclusts$clustnames\n",
    "  write.csv(temptab,file=paste0(\"cluster_ids_\",pref,\"_\",nameval,\".csv\"))  \n",
    "}"
   ]
  },
  {
   "cell_type": "markdown",
   "metadata": {
    "collapsed": true
   },
   "source": [
    "### 6) Generate confusion matrices between each of the GLIF clusterings and the electrophysiology feature clustering\n",
    "#### This generates the four panels in Supplemental Figure 13"
   ]
  },
  {
   "cell_type": "code",
   "execution_count": 13,
   "metadata": {
    "collapsed": false
   },
   "outputs": [
    {
     "name": "stderr",
     "output_type": "stream",
     "text": [
      "Warning message:\n",
      "In heatmap.2(plottab, col = colorRampPalette(c(\"white\", \"orange\", : Discrepancy: Rowv is FALSE, while dendrogram is `both'. Omitting row dendogram.Warning message:\n",
      "In heatmap.2(plottab, col = colorRampPalette(c(\"white\", \"orange\", : Discrepancy: Colv is FALSE, while dendrogram is `column'. Omitting column dendogram.Warning message:\n",
      "In heatmap.2(plottab, col = colorRampPalette(c(\"white\", \"orange\", : Discrepancy: Rowv is FALSE, while dendrogram is `both'. Omitting row dendogram.Warning message:\n",
      "In heatmap.2(plottab, col = colorRampPalette(c(\"white\", \"orange\", : Discrepancy: Colv is FALSE, while dendrogram is `column'. Omitting column dendogram.Warning message:\n",
      "In heatmap.2(plottab, col = colorRampPalette(c(\"white\", \"orange\", : Discrepancy: Rowv is FALSE, while dendrogram is `both'. Omitting row dendogram.Warning message:\n",
      "In heatmap.2(plottab, col = colorRampPalette(c(\"white\", \"orange\", : Discrepancy: Colv is FALSE, while dendrogram is `column'. Omitting column dendogram.Warning message:\n",
      "In heatmap.2(plottab, col = colorRampPalette(c(\"white\", \"orange\", : Discrepancy: Rowv is FALSE, while dendrogram is `both'. Omitting row dendogram.Warning message:\n",
      "In heatmap.2(plottab, col = colorRampPalette(c(\"white\", \"orange\", : Discrepancy: Colv is FALSE, while dendrogram is `column'. Omitting column dendogram."
     ]
    },
    {
     "data": {
      "text/html": [
       "<strong>pdf:</strong> 2"
      ],
      "text/latex": [
       "\\textbf{pdf:} 2"
      ],
      "text/markdown": [
       "**pdf:** 2"
      ],
      "text/plain": [
       "pdf \n",
       "  2 "
      ]
     },
     "execution_count": 13,
     "metadata": {},
     "output_type": "execute_result"
    }
   ],
   "source": [
    "pref=\"iterative_binary_clustering_2018\"\n",
    "parametersets=c(\"GLIF1\",\"GLIF2\",\"GLIF3\",\"GLIF4\")\n",
    "cre_voi=c()\n",
    "cre_ari=c()\n",
    "cre_mean_voi=c()\n",
    "cre_mean_ari=c()\n",
    "featclust=read.csv(paste0(\"cluster_ids_\",pref,\"_Features.csv\"),as.is=T,row.names=1)\n",
    "featcomp=read.csv(paste0(\"composition_\",pref,\"_Features.csv\"),as.is=T) \n",
    "pdf(paste0(\"Fig_Supp13_confusion_matrices_\",pref,\".pdf\"),useDingbats=F)  \n",
    "for (nameval in parametersets) {\n",
    "  glifclust=read.csv(paste0(\"cluster_ids_\",pref,\"_\",nameval,\".csv\"),as.is=T)\n",
    "  glifclust=glifclust[match(rownames(featclust),glifclust[,1]),]\n",
    "  temptab=table(glifclust[,2],featclust[,1])\n",
    "  glifcomp=read.csv(paste0(\"composition_\",pref,\"_\",nameval,\".csv\"),as.is=T)\n",
    "  rowvec=glifcomp[match(rownames(temptab),glifcomp[,1]),ncol(glifcomp)]\n",
    "  colvec=featcomp[match(colnames(temptab),featcomp[,1]),ncol(featcomp)]\n",
    "  temptab=cbind(temptab,rowvec)\n",
    "  temptab=rbind(temptab,c(colvec,''))\n",
    "  write.csv(temptab,file=paste0(\"confusion_matrix_\",pref,\"_features_\",nameval,\".csv\"))\n",
    "  \n",
    "  ###make plot###\n",
    "  plottab=temptab\n",
    "  rownames(plottab)=temptab[,ncol(temptab)]\n",
    "  colnames(plottab)=temptab[nrow(temptab),]\n",
    "  plottab=plottab[-nrow(plottab),-ncol(plottab)]\n",
    "  plottab=t(apply(plottab,1,as.numeric))\n",
    "  rownames(plottab)=paste0(\"GLIF \",temptab[-nrow(temptab),ncol(temptab)])\n",
    "  rownames(plottab)=gsub(\"Cluster \",\"C\",rownames(plottab))\n",
    "  colnames(plottab)=paste0(\"Feature \",temptab[nrow(temptab),-ncol(temptab)])\n",
    "  colnames(plottab)=gsub(\"Cluster \",\"C\",colnames(plottab))\n",
    "  plottab=plottab[mixedorder(rownames(plottab)),mixedorder(colnames(plottab))]\n",
    "  texttab=plottab\n",
    "  texttab[texttab==0]=''\n",
    "  heatmap.2(plottab,col=colorRampPalette(c(\"white\",\"orange\",\"red\")),scale='none',trace='none',cellnote=texttab,notecol=\"black\",Rowv=F,Colv=F,cexRow=0.9,cexCol=0.9,key=F)\n",
    "}\n",
    "dev.off()"
   ]
  },
  {
   "cell_type": "code",
   "execution_count": null,
   "metadata": {
    "collapsed": true
   },
   "outputs": [],
   "source": []
  }
 ],
 "metadata": {
  "anaconda-cloud": {},
  "kernelspec": {
   "display_name": "R",
   "language": "R",
   "name": "ir"
  },
  "language_info": {
   "codemirror_mode": "r",
   "file_extension": ".r",
   "mimetype": "text/x-r-source",
   "name": "R",
   "pygments_lexer": "r",
   "version": "3.1.3"
  }
 },
 "nbformat": 4,
 "nbformat_minor": 0
}
