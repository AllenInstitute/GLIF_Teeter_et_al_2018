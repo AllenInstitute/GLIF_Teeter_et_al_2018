{
 "cells": [
  {
   "cell_type": "markdown",
   "metadata": {},
   "source": [
    "# Code to cluster cells by GLIF and spike shape parameters using iterative binary clustering\n",
    "### Teeter et al. 2018\n",
    "#### This notebook runs the iterative binary approach to generate clusters from the GLIF and spike-shape parameters. This code outputs the GLIF and feature cluster vs. Cre line composition figures, corresponding to Figure 7 in the paper. "
   ]
  },
  {
   "cell_type": "markdown",
   "metadata": {},
   "source": [
    "### 1) Install required packages"
   ]
  },
  {
   "cell_type": "code",
   "execution_count": 1,
   "metadata": {
    "collapsed": false
   },
   "outputs": [
    {
     "name": "stderr",
     "output_type": "stream",
     "text": [
      "Loading required package: ape\n",
      "Loading required package: e1071\n",
      "Loading required package: gplots\n",
      "\n",
      "Attaching package: 'gplots'\n",
      "\n",
      "The following object is masked from 'package:stats':\n",
      "\n",
      "    lowess\n",
      "\n",
      "Loading required package: mclust\n",
      "Package 'mclust' version 5.2\n",
      "Type 'citation(\"mclust\")' for citing this R package in publications.\n"
     ]
    }
   ],
   "source": [
    "if (!require(ape)) {install.packages(\"ape\", repos = \"http://cran.us.r-project.org\")}\n",
    "if (!require(e1071)) {install.packages(\"e1071\", repos = \"http://cran.us.r-project.org\")}\n",
    "if (!require(gplots)) {install.packages(\"gplots\", repos = \"http://cran.us.r-project.org\")}\n",
    "require(ape)\n",
    "require(e1071)\n",
    "require(gplots)\n",
    "require(mclust)"
   ]
  },
  {
   "cell_type": "markdown",
   "metadata": {},
   "source": [
    "### 2) Load data and metadata"
   ]
  },
  {
   "cell_type": "code",
   "execution_count": 2,
   "metadata": {
    "collapsed": false
   },
   "outputs": [],
   "source": [
    "###model parameters\n",
    "dat=read.table(\"GLIF_param_plus_spike_features_7_27_17.csv\",sep=\"\\t\",as.is=T,row.names=1,check.names=F,header=T)\n",
    "metadata=dat[,1:2]\n",
    "fulldat=dat[,-c(1:2)]\n",
    "\n",
    "###Cre line metadata\n",
    "crecols=read.csv(\"cre_colors.csv\",as.is=T,header=F)\n",
    "newcols=rgb(crecols[,2:4],maxColorValue = 255)\n",
    "names(newcols)=crecols[,5]\n",
    "colvec=newcols[match(metadata$cre,crecols[,1])]\n",
    "cre_order=c(\"Htr3a\",\"Ndnf\",\"Vip\",\"Sst\",\"Pvalb\",\"Nkx2-1\",\"Chat\",\"Chrna2\",\"Cux2\",\"Nr5a1\",\"Scnn1a-Tg2\",\"Scnn1a-Tg3\",\"Rorb\",\"Rbp4\",\"Ntsr1\",\"Ctgf\")\n",
    "  \n",
    "###features\n",
    "featdat=read.table(\"features_7_27_17.csv\",as.is=T,row.names=1,check.names=F,sep=\",\",header=T)\n",
    "featmetadata=featdat[,1:2]\n",
    "featfulldat=featdat[,c(\"tau\",\"ri\",\"vrest\",\"threshold_i_long_square\",\"threshold_v_long_square\",\"peak_v_long_square\",\"fast_trough_v_long_square\",\"trough_v_long_square\",\"upstroke_downstroke_ratio_long_square\",\"upstroke_downstroke_ratio_short_square\",\"sag\",\"f_i_curve_slope\",\"latency\",\"max_burstiness_across_sweeps\")]\n",
    "\n",
    "\n",
    "\n"
   ]
  },
  {
   "cell_type": "markdown",
   "metadata": {},
   "source": [
    "### 3) Apply log transform to skewed parameters/features"
   ]
  },
  {
   "cell_type": "code",
   "execution_count": 3,
   "metadata": {
    "collapsed": false
   },
   "outputs": [],
   "source": [
    "###model parameters\n",
    "for (ii in 1:ncol(fulldat)) {\n",
    "  if (min(fulldat[,ii])*max(fulldat[,ii])>0) {\n",
    "    if (min(fulldat[,ii])>0) {\n",
    "      if (skewness(fulldat[,ii])>skewness(log10(fulldat[,ii]))) {\n",
    "        fulldat[,ii]=log10(fulldat[,ii])\n",
    "      }\n",
    "    } else {\n",
    "      if (skewness(-fulldat[,ii])>skewness(log10(-fulldat[,ii]))) {\n",
    "        fulldat[,ii]=log10(-fulldat[,ii])\n",
    "      }\n",
    "    }\n",
    "  }\n",
    "}\n",
    "fulldat_all=fulldat\n",
    "\n",
    "###features\n",
    "for (ii in 1:ncol(featfulldat)) {\n",
    "  if (min(featfulldat[,ii])*max(featfulldat[,ii])>0) {\n",
    "    if (min(featfulldat[,ii])>0) {\n",
    "      if (skewness(featfulldat[,ii])>skewness(log10(featfulldat[,ii]))) {\n",
    "        featfulldat[,ii]=log10(featfulldat[,ii])\n",
    "      }\n",
    "    } else {\n",
    "      if (skewness(-featfulldat[,ii])>skewness(log10(-featfulldat[,ii]))) {\n",
    "        featfulldat[,ii]=log10(-featfulldat[,ii])\n",
    "      }\n",
    "    }\n",
    "  }\n",
    "}\n",
    "featfulldat_all=featfulldat"
   ]
  },
  {
   "cell_type": "markdown",
   "metadata": {},
   "source": [
    "### 4) Load clustering and clustering overlap functions"
   ]
  },
  {
   "cell_type": "code",
   "execution_count": 4,
   "metadata": {
    "collapsed": true
   },
   "outputs": [],
   "source": [
    "###function to separate data into two clusters and check for cluster separation using SVM-based prediction\n",
    "cluster_into_two=function(fulldat,startseed,meth='ward.D') {\n",
    "  fulldat=scale(fulldat[,apply(fulldat,2,var)>0])\n",
    "  hc=hclust(as.dist(1-cor(t(fulldat),method=\"pearson\")),method=meth)\n",
    "  clustids=cutree(hc,2)\n",
    "  outlist=list()\n",
    "  ###assess predictability using SVM prediction###\n",
    "   fraction_incorrect=c()\n",
    "   inds1=which(clustids==1)\n",
    "   inds2=which(clustids==2)\n",
    "   if (length(inds1)>5 & length(inds2)>5) {\n",
    "     sampfrac1=round(0.5*length(inds1))\n",
    "     sampfrac2=round(0.5*length(inds2))\n",
    "     for (tt in 1:100) {\n",
    "       set.seed(tt+startseed)\n",
    "       sampvec=c(sample(inds1,sampfrac1),sample(inds2,sampfrac2))\n",
    "       setcols=which(apply(fulldat[sampvec,],2,var)>0)\n",
    "       svmpred=predict(svm(x=fulldat[sampvec,setcols],y=clustids[sampvec],type=\"C-classification\"),fulldat[-sampvec,setcols])\n",
    "       conf=table(svmpred,clustids[-sampvec])\n",
    "       fraction_incorrect=c(fraction_incorrect,(conf[2,1]+conf[1,2])/sum(conf))\n",
    "     }\n",
    "   } else {\n",
    "     fraction_incorrect=c(1,1)\n",
    "     fraction_incorrect_rand=c(1,1)\n",
    "   }\n",
    "   outlist[['fraction_incorrect']]=fraction_incorrect\n",
    "   outlist[['clustids']]=clustids\n",
    "  return(outlist)\n",
    "}\n",
    "\n",
    "###function to cluster iteratively using binary splits\n",
    "recursive_clustering=function(keepcols,fulldat_all,fraclim=0.2,splitlim=50,startseed,outlist,methall=\"ward.D\") {\n",
    "  clustmat=fulldat_all[,keepcols]\n",
    "  tempout=cluster_into_two(clustmat,meth=methall,startseed)\n",
    "  if (!is.na(tempout$fraction_incorrect[1])) {\n",
    "    if (max(tempout$fraction_incorrect,na.rm=T)<=fraclim) {\n",
    "      outlist$clustnames[names(tempout$clustids)]=paste(outlist$clustnames[names(tempout$clustids)],tempout$clustids,sep=\"_\")\n",
    "      outlist$fracmat=rbind(outlist$fracmat,tempout$fraction_incorrect)\n",
    "      for (ii in 1:2) {\n",
    "        if (length(which(tempout$clustids==ii))>=10) {\n",
    "        outlist=recursive_clustering(keepcols,fulldat_all[names(tempout$clustids)[tempout$clustids==ii],],fraclim=fraclim,splitlim=splitlim,startseed+ii,outlist)\n",
    "        }\n",
    "      }\n",
    "    }\n",
    "  }\n",
    "  return(outlist)\n",
    "}\n",
    "\n",
    "###function to calculate Variation of Information or Adjusted Rand Index\n",
    "calc_cluster_diff=function(xvec,yvec,functype=1,credistmat=c(),clustdistmat=c()) {\n",
    "  if (functype==1) {\n",
    "    totaltab=table(xvec,yvec)\n",
    "    rowmat=sweep(totaltab,1,rowSums(totaltab),\"/\")  \n",
    "    colmat=sweep(totaltab,2,colSums(totaltab),\"/\")\n",
    "    summat=(totaltab*(log(rowmat)+log(colmat)))\n",
    "    sumval=sum(summat[totaltab>0])/length(xvec)\n",
    "    return(-sumval) \n",
    "  } else {\n",
    "    return(adjustedRandIndex(xvec,yvec))\n",
    "  }\n",
    "}\n",
    "\n",
    "###function to calculate score based on 100 random permutations\n",
    "rand_cluster_diff=function(xvec,yvec,functype=1,credistmat=c(),clustdistmat=c()) {\n",
    "  allvals=rep(0,100)\n",
    "  for (ii in 1:100) {\n",
    "    set.seed(ii)\n",
    "    allvals[ii]=calc_cluster_diff(xvec,sample(yvec),functype,credistmat,clustdistmat)\n",
    "  }\n",
    "  return(allvals)\n",
    "}\n"
   ]
  },
  {
   "cell_type": "markdown",
   "metadata": {},
   "source": [
    "### 5) Run clustering on GLIF parameters, GLIF parameters+spike shape features, and electrophysiological features\n",
    "#### This generates the first four panels of Figure 7."
   ]
  },
  {
   "cell_type": "code",
   "execution_count": 6,
   "metadata": {
    "collapsed": false
   },
   "outputs": [
    {
     "name": "stdout",
     "output_type": "stream",
     "text": [
      "[1] \"clustering Features model, using the following parameters: tau,ri,vrest,threshold_i_long_square,threshold_v_long_square,peak_v_long_square,fast_trough_v_long_square,trough_v_long_square,upstroke_downstroke_ratio_long_square,upstroke_downstroke_ratio_short_square,sag,f_i_curve_slope,latency,max_burstiness_across_sweeps\"\n",
      "[1] \"clustering Featuresnospike model, using the following parameters: tau,ri,vrest,threshold_i_long_square,threshold_v_long_square,trough_v_long_square,sag,f_i_curve_slope,latency,max_burstiness_across_sweeps\"\n",
      "[1] \"clustering GLIF1 model, using the following parameters: R_input,C,El,th_inf,spike_cut_length\"\n",
      "[1] \"clustering GLIF2 model, using the following parameters: R_input,C,El,th_inf,spike_cut_length,reset_slope,reset_intercept\"\n",
      "[1] \"clustering GLIF3 model, using the following parameters: R_ASC,C,El,th_inf,total charge 1/300+1/100,total charge 1/3+1/10+1/100,spike_cut_length\"\n",
      "[1] \"clustering GLIF4 model, using the following parameters: R_ASC,C,El,th_inf,total charge 1/300+1/100,total charge 1/3+1/10+1/100,spike_cut_length,reset_slope,reset_intercept\"\n",
      "[1] \"clustering GLIF1_spike_shape model, using the following parameters: R_input,C,El,th_inf,spike_cut_length,peak_v_long_square,fast_trough_v_long_square,upstroke_downstroke_ratio_long_square,upstroke_downstroke_ratio_short_square\"\n",
      "[1] \"clustering GLIF2_spike_shape model, using the following parameters: R_input,C,El,th_inf,spike_cut_length,reset_slope,reset_intercept,peak_v_long_square,fast_trough_v_long_square,upstroke_downstroke_ratio_long_square,upstroke_downstroke_ratio_short_square\"\n",
      "[1] \"clustering GLIF3_spike_shape model, using the following parameters: R_ASC,C,El,th_inf,total charge 1/300+1/100,total charge 1/3+1/10+1/100,spike_cut_length,peak_v_long_square,fast_trough_v_long_square,upstroke_downstroke_ratio_long_square,upstroke_downstroke_ratio_short_square\"\n",
      "[1] \"clustering GLIF4_spike_shape model, using the following parameters: R_ASC,C,El,th_inf,total charge 1/300+1/100,total charge 1/3+1/10+1/100,spike_cut_length,reset_slope,reset_intercept,peak_v_long_square,fast_trough_v_long_square,upstroke_downstroke_ratio_long_square,upstroke_downstroke_ratio_short_square\"\n"
     ]
    },
    {
     "data": {
      "text/html": [
       "<strong>pdf:</strong> 2"
      ],
      "text/latex": [
       "\\textbf{pdf:} 2"
      ],
      "text/markdown": [
       "**pdf:** 2"
      ],
      "text/plain": [
       "pdf \n",
       "  2 "
      ]
     },
     "execution_count": 6,
     "metadata": {},
     "output_type": "execute_result"
    }
   ],
   "source": [
    "###specify prefix for output file names###\n",
    "pref=\"iterative_binary_clustering_2018\"\n",
    "parametersets=c(\"Features\",\"Featuresnospike\",\"GLIF1\",\"GLIF2\",\"GLIF3\",\"GLIF4\",\"GLIF1_spike_shape\",\"GLIF2_spike_shape\",\"GLIF3_spike_shape\",\"GLIF4_spike_shape\")\n",
    "fraclimval=0.2  ###maximum fraction of incorrectly classified cells in test set (see recursive_clustering function in cell 3)\n",
    "methall='ward.D'\n",
    "pdf(paste0(\"Fig_7_cluster_diagram_\",pref,\".pdf\"),useDingbats=F,width=12,height=10)\n",
    "for (nameval in parametersets) {\n",
    "  if (nameval==\"GLIF1\") {keepcols=c(1,3,4,5,8)}\n",
    "  if (nameval==\"GLIF2\") {keepcols=c(1,3,4,5,8,9,10)}\n",
    "  if (nameval==\"GLIF3\") {keepcols=c(2,3,4,5,6,7,8)}\n",
    "  if (nameval==\"GLIF4\") {keepcols=c(2,3,4,5,6,7,8,9,10)}\n",
    "  if (nameval==\"GLIF1_spike_shape\") {keepcols=c(1,3,4,5,8,13:16)}\n",
    "  if (nameval==\"GLIF2_spike_shape\") {keepcols=c(1,3,4,5,8,9,10,13:16)}\n",
    "  if (nameval==\"GLIF3_spike_shape\") {keepcols=c(2,3,4,5,6,7,8,13:16)}\n",
    "  if (nameval==\"GLIF4_spike_shape\") {keepcols=c(2,3,4,5,6,7,8,9,10,13:16)}\n",
    "  if (nameval==\"Features\") {keepcols=1:ncol(featfulldat_all)}\n",
    "  if (nameval==\"Featuresnospike\") {keepcols=c(1,2,3,4,5,8,11,12,13,14)}\n",
    "  \n",
    "  if (nameval %in% c(\"Features\",\"Featuresnospike\")) {\n",
    "    startmat=featfulldat_all\n",
    "  } else {\n",
    "    startmat=fulldat_all\n",
    "  }\n",
    "\n",
    "  print(paste0(\"clustering \",nameval,\" model, using the following parameters: \",paste(colnames(startmat)[keepcols],collapse=\",\")))\n",
    "  startnames=rep(\"1\",nrow(startmat))\n",
    "  names(startnames)=rownames(startmat)\n",
    "  outlist=list()\n",
    "  outlist$clustnames=startnames\n",
    "  outlist$fracmat=c()\n",
    "  allclusts=recursive_clustering(keepcols,startmat,fraclim=fraclimval,splitlim=splitlimval,startseed=1,outlist=outlist)\n",
    "  temptab=table(allclusts$clustnames[intersect(names(allclusts$clustnames),rownames(metadata))],metadata$cre[match(intersect(names(allclusts$clustnames),rownames(metadata)),rownames(metadata))])\n",
    "  colnames(temptab)=sapply(strsplit(colnames(temptab),\"-\"), `[`, 1)\n",
    "  temptab=cbind(temptab,paste(\"Cluster \",rev(1:nrow(temptab)),sep=''))\n",
    "  write.csv(temptab,file=paste0(\"composition_\",pref,\"_\",nameval,\".csv\"))\n",
    "  temptab=allclusts$clustnames\n",
    "  write.csv(temptab,file=paste0(\"cluster_ids_\",pref,\"_\",nameval,\".csv\"))\n",
    "  \n",
    "  outtab2=read.csv(paste0(\"composition_\",pref,\"_\",nameval,\".csv\"),as.is=T,row.names=1,check.names=F)\n",
    "  outtab2=outtab2[,-ncol(outtab2)]\n",
    "  colnames(outtab2)[grep(\"Scnn1a\",colnames(outtab2))]=c(\"Scnn1a-Tg2\",\"Scnn1a-Tg3\")\n",
    "  colnames(outtab2)[grep(\"Nkx2\",colnames(outtab2))]=\"Nkx2-1\"\n",
    "  outtab2=outtab2[,cre_order]\n",
    "  xvals=matrix(rep(1:ncol(outtab2),each=nrow(outtab2)),nrow=nrow(outtab2))\n",
    "  yvals=matrix(rep(1:nrow(outtab2),ncol(outtab2)),nrow=nrow(outtab2))\n",
    "  basecols=newcols[colnames(outtab2)]\n",
    "  colvals=matrix(basecols[rep(1:ncol(outtab2),each=nrow(outtab2))],nrow=nrow(outtab2))\n",
    "  outtab2=100*sweep(as.matrix(outtab2),2,colSums(outtab2),\"/\")\n",
    "  dfx = data.frame(x=c(xvals), y=c(yvals), sizeval=sqrt(c(as.matrix(outtab2))),colsplot=c(colvals))\n",
    "  dfx = dfx[dfx$sizeval>0,]\n",
    "  par(fig=c(0.3,1,0,1), new=FALSE)\n",
    "  if (grepl(\"spike_shape\",nameval)) {  \n",
    "      plot(c(1,ncol(outtab2)),c(1,nrow(outtab2)),pch='',xlab='',ylab='',xaxt='n',yaxt='n',main=nameval)\n",
    "      abline(h=1:nrow(outtab2),v=1:ncol(outtab2),col='grey')\n",
    "      with(dfx, symbols(x=x, y=y, circles=sizeval, inches=1/4, ann=F, bg=as.character(colsplot), fg=\"black\", xlab=colnames(outtab),add=T,xlim=c(1,ncol(outtab2)),ylim=c(1,nrow(outtab2)),xaxt='n',yaxt='n'))\n",
    "      axis(1, at=1:ncol(outtab2),labels=colnames(outtab2),las=2,cex.axis=0.9)\n",
    "      axis(2, at=1:nrow(outtab2),label=paste(\"Cluster \",rev(1:nrow(outtab2)),sep=''),las=2)\n",
    "      if (nrow(outtab2)>1) {\n",
    "        prevnam1=rownames(outtab2)[1]\n",
    "        prevnam2=strsplit(rownames(outtab2)[1],\"_\")[[1]]\n",
    "        textvec=paste0(rep(\"(\",length(prevnam2)-1),collapse=\"\")\n",
    "        for (ii in 1:(nrow(outtab2)-1)) {\n",
    "          currnam1=rownames(outtab2)[ii]\n",
    "          currnam2=strsplit(currnam1,\"_\")[[1]]\n",
    "          nextnam1=rownames(outtab2)[ii+1]\n",
    "          nextnam2=strsplit(nextnam1,\"_\")[[1]]\n",
    "          textvec=paste0(textvec,currnam1)\n",
    "          if (currnam2[length(currnam2)]==\"1\") {\n",
    "            textvec=paste0(textvec,\",\")\n",
    "            if (length(currnam2)<length(nextnam2)) {\n",
    "              textvec=paste0(textvec,paste0(rep(\"(\",length(nextnam2)-length(currnam2)),collapse=''))\n",
    "            }\n",
    "          } else {\n",
    "            checkrange=1:min(length(currnam2),length(nextnam2))\n",
    "            closepar=length(currnam2)-which(currnam2[checkrange]!=nextnam2[checkrange])[1]\n",
    "            textvec=paste0(textvec,paste0(rep(\")\",closepar),collapse=''),\",\")\n",
    "            if (nextnam2[length(nextnam2)]==\"1\") {\n",
    "              openpar=length(nextnam2)-which(currnam2[checkrange]!=nextnam2[checkrange])[1]\n",
    "              textvec=paste0(textvec,paste0(rep(\"(\",openpar),collapse=''))\n",
    "            }\n",
    "          }\n",
    "        }\n",
    "        textvec=paste0(textvec,nextnam1,paste0(rep(\")\",length(nextnam2)-1),collapse=\"\"),\";\")\n",
    "        dd2=read.tree(text=textvec)\n",
    "        tipvec=dd2$tip.label\n",
    "        dd2$tip.label=rep(\"\",length(tipvec))\n",
    "        par(fig=c(0,0.33,0,1), new=TRUE)\n",
    "        plot(dd2)\n",
    "        plotvals=apply(allclusts$fracmat,1,max)\n",
    "        nodelabels(100-round(100*plotvals),cex=1.4)\n",
    "      }\n",
    "  }\n",
    "}\n",
    "dev.off()"
   ]
  },
  {
   "cell_type": "markdown",
   "metadata": {
    "collapsed": true
   },
   "source": [
    "### 6) Calculate Adjusted Rand and Adjusted Variation of Information Indices between all clusterings and Cre line segregation\n",
    "#### This generates the lower left panel of Figure 7"
   ]
  },
  {
   "cell_type": "code",
   "execution_count": 8,
   "metadata": {
    "collapsed": false
   },
   "outputs": [
    {
     "data": {
      "text/html": [
       "<strong>pdf:</strong> 2"
      ],
      "text/latex": [
       "\\textbf{pdf:} 2"
      ],
      "text/markdown": [
       "**pdf:** 2"
      ],
      "text/plain": [
       "pdf \n",
       "  2 "
      ]
     },
     "execution_count": 8,
     "metadata": {},
     "output_type": "execute_result"
    }
   ],
   "source": [
    "pref=\"iterative_binary_clustering_2018\"\n",
    "parametersets=c(\"GLIF1\",\"GLIF2\",\"GLIF3\",\"GLIF4\",\"Featuresnospike\",\"Features\",\"GLIF1_spike_shape\",\"GLIF2_spike_shape\",\"GLIF3_spike_shape\",\"GLIF4_spike_shape\")\n",
    "cre_voi=c()\n",
    "cre_ari=c()\n",
    "cre_mean_voi=c()\n",
    "cre_mean_ari=c()\n",
    "featclust=featmetadata\n",
    "for (nameval in parametersets) {\n",
    "  glifclust=read.csv(paste0(\"cluster_ids_\",pref,\"_\",nameval,\".csv\"),as.is=T)\n",
    "  glifclust=glifclust[match(rownames(featclust),glifclust[,1]),]\n",
    "  cre_voi=c(cre_voi,calc_cluster_diff(featclust[,1],glifclust[,2],1))\n",
    "  cre_ari=c(cre_ari,calc_cluster_diff(featclust[,1],glifclust[,2],2))\n",
    "  rand_voi=rand_cluster_diff(featclust[,1],glifclust[,2],1)\n",
    "  rand_ari=rand_cluster_diff(featclust[,1],glifclust[,2],2)\n",
    "  cre_mean_voi=c(cre_mean_voi,mean(rand_voi))\n",
    "  cre_mean_ari=c(cre_mean_ari,mean(rand_ari))\n",
    "}\n",
    "pdf(paste0(\"Fig_7_comparison_to_Cre_lines_\",pref,\".pdf\"),useDingbats=F)\n",
    "par(mar = c(5,5,2,5))\n",
    "plot(1:10,cre_mean_voi[1:10]-cre_voi[1:10],type=\"l\",col=\"black\",ylab=\"Adjusted VOI score\",xaxt='n',xlab='',main=\"Comparison between model/feature clusters and Cre line partitioning\",ylim=c(0,max(cre_mean_voi[1:10]-cre_voi[1:10])))\n",
    "axis(side=1,at=1:10,labels=c(\"GLIF1\",\"GLIF2\",\"GLIF3\",\"GLIF4\",\"Features, no\\nspike-shape\", \"Features\",\"GLIF1+spike shape\",\"GLIF2+spike shape\",\"GLIF3+spike shape\",\"GLIF4+spike shape\"),las=2)\n",
    "par(new = T)\n",
    "plot(1:10, cre_ari[1:10]-cre_mean_ari[1:10], type=\"l\", col=\"red\", axes=F, xlab=NA, ylab=NA,ylim=c(0,max(cre_ari[1:10]-cre_mean_ari[1:10])))\n",
    "axis(side=4,labels=F)\n",
    "at = axTicks(4)\n",
    "mtext(side = 4, text = at, at = at, col = \"red\", line = 1)\n",
    "mtext(side = 4, line = 3, 'Adjusted Rand Index',col='red')\n",
    "legend(\"topleft\",c(\"Adjusted VOI\",\"Adjusted Rand Index\"),fill=c(\"black\",\"red\"))\n",
    "dev.off()"
   ]
  },
  {
   "cell_type": "markdown",
   "metadata": {},
   "source": [
    "### 7) Calculate Adjusted Rand and Adjusted Variation of Information Indices between GLIF clusterings and electrophysiological feature clustering\n",
    "#### This generates the lower right panel of Figure 7"
   ]
  },
  {
   "cell_type": "code",
   "execution_count": 9,
   "metadata": {
    "collapsed": false
   },
   "outputs": [
    {
     "data": {
      "text/html": [
       "<strong>pdf:</strong> 2"
      ],
      "text/latex": [
       "\\textbf{pdf:} 2"
      ],
      "text/markdown": [
       "**pdf:** 2"
      ],
      "text/plain": [
       "pdf \n",
       "  2 "
      ]
     },
     "execution_count": 9,
     "metadata": {},
     "output_type": "execute_result"
    }
   ],
   "source": [
    "pref=\"iterative_binary_clustering_2018\"\n",
    "parametersets=c(\"GLIF1\",\"GLIF2\",\"GLIF3\",\"GLIF4\",\"Featuresnospike\",\"GLIF1_spike_shape\",\"GLIF2_spike_shape\",\"GLIF3_spike_shape\",\"GLIF4_spike_shape\")\n",
    "all_voi=c()\n",
    "all_ari=c()\n",
    "mean_voi=c()\n",
    "mean_ari=c()\n",
    "featclust=read.csv(paste0(\"cluster_ids_\",pref,\"_Features.csv\"),as.is=T,row.names=1)\n",
    "for (nameval in parametersets) {\n",
    "  glifclust=read.csv(paste0(\"cluster_ids_\",pref,\"_\",nameval,\".csv\"),as.is=T)\n",
    "  glifclust=glifclust[match(rownames(featclust),glifclust[,1]),]\n",
    "  all_voi=c(all_voi,calc_cluster_diff(featclust[,1],glifclust[,2],1))\n",
    "  all_ari=c(all_ari,calc_cluster_diff(featclust[,1],glifclust[,2],2))\n",
    "  rand_voi=rand_cluster_diff(featclust[,1],glifclust[,2],1)\n",
    "  rand_ari=rand_cluster_diff(featclust[,1],glifclust[,2],2)\n",
    "  mean_voi=c(mean_voi,mean(rand_voi))\n",
    "  mean_ari=c(mean_ari,mean(rand_ari))\n",
    "}\n",
    "pdf(paste0(\"Fig_7_comparison_to_feature_clustering_\",pref,\".pdf\"),useDingbats=F)\n",
    "par(mar = c(5,5,2,5))\n",
    "plot(1:9,mean_voi[1:9]-all_voi[1:9],type=\"l\",col=\"black\",ylab=\"Adjusted VOI score\",xaxt='n',xlab='',main=\"Comparison between model/feature clusters and Cre line partitioning\",ylim=c(0,max(mean_voi[1:9]-all_voi[1:9])))\n",
    "axis(side=1,at=1:9,labels=c(\"GLIF1\",\"GLIF2\",\"GLIF3\",\"GLIF4\",\"Features, no\\nspike-shape\",\"GLIF1+spike shape\",\"GLIF2+spike shape\",\"GLIF3+spike shape\",\"GLIF4+spike shape\"),las=2)\n",
    "par(new = T)\n",
    "plot(1:9, all_ari[1:9]-mean_ari[1:9], type=\"l\", col=\"red\", axes=F, xlab=NA, ylab=NA,ylim=c(0,max(all_ari[1:9]-mean_ari[1:9])))\n",
    "axis(side=4,labels=F)\n",
    "at = axTicks(4)\n",
    "mtext(side = 4, text = at, at = at, col = \"red\", line = 1)\n",
    "mtext(side = 4, line = 3, 'Adjusted Rand Index',col='red')\n",
    "legend(\"topleft\",c(\"Adjusted VOI\",\"Adjusted Rand Index\"),fill=c(\"black\",\"red\"))\n",
    "dev.off()"
   ]
  },
  {
   "cell_type": "code",
   "execution_count": null,
   "metadata": {
    "collapsed": true
   },
   "outputs": [],
   "source": []
  }
 ],
 "metadata": {
  "anaconda-cloud": {},
  "kernelspec": {
   "display_name": "R",
   "language": "R",
   "name": "ir"
  },
  "language_info": {
   "codemirror_mode": "r",
   "file_extension": ".r",
   "mimetype": "text/x-r-source",
   "name": "R",
   "pygments_lexer": "r",
   "version": "3.1.3"
  }
 },
 "nbformat": 4,
 "nbformat_minor": 0
}
